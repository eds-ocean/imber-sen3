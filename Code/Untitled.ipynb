{
 "cells": [
  {
   "cell_type": "code",
   "execution_count": 3,
   "id": "ff93b43f-58d9-49cc-aa21-d6608bebe6ef",
   "metadata": {},
   "outputs": [],
   "source": [
    "# !pip install climetlab\n",
    "# !pip install climetlab-wekeo-source\n",
    "# !pip install climetlab-wekeo-datasets"
   ]
  },
  {
   "cell_type": "code",
   "execution_count": 4,
   "id": "746b7654-0fa1-4018-9ee4-7b1b14b3d7b3",
   "metadata": {},
   "outputs": [
    {
     "ename": "ModuleNotFoundError",
     "evalue": "No module named 'climetlab'",
     "output_type": "error",
     "traceback": [
      "\u001b[0;31m---------------------------------------------------------------------------\u001b[0m",
      "\u001b[0;31mModuleNotFoundError\u001b[0m                       Traceback (most recent call last)",
      "Cell \u001b[0;32mIn[4], line 1\u001b[0m\n\u001b[0;32m----> 1\u001b[0m \u001b[38;5;28;01mimport\u001b[39;00m \u001b[38;5;21;01mclimetlab\u001b[39;00m \u001b[38;5;28;01mas\u001b[39;00m \u001b[38;5;21;01mcml\u001b[39;00m\n\u001b[1;32m      2\u001b[0m \u001b[38;5;28;01mfrom\u001b[39;00m \u001b[38;5;21;01mclimetlab_wekeo_datasets\u001b[39;00m \u001b[38;5;28;01mimport\u001b[39;00m hda2cml\n",
      "\u001b[0;31mModuleNotFoundError\u001b[0m: No module named 'climetlab'"
     ]
    }
   ],
   "source": [
    "import climetlab as cml\n",
    "from climetlab_wekeo_datasets import hda2cml"
   ]
  },
  {
   "cell_type": "code",
   "execution_count": null,
   "id": "92fe7fe4-0c3a-4789-99eb-6d96e1bff4b7",
   "metadata": {},
   "outputs": [],
   "source": []
  }
 ],
 "metadata": {
  "kernelspec": {
   "display_name": "miniwekeolab",
   "language": "python",
   "name": "miniwekeolab"
  },
  "language_info": {
   "codemirror_mode": {
    "name": "ipython",
    "version": 3
   },
   "file_extension": ".py",
   "mimetype": "text/x-python",
   "name": "python",
   "nbconvert_exporter": "python",
   "pygments_lexer": "ipython3",
   "version": "3.12.3"
  }
 },
 "nbformat": 4,
 "nbformat_minor": 5
}
