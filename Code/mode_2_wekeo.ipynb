{
 "cells": [
  {
   "cell_type": "code",
   "execution_count": 1,
   "id": "1db4f31f-5f7b-4798-88f0-aec9da408695",
   "metadata": {},
   "outputs": [],
   "source": [
    "import os, shutil, gc, glob\n",
    "\n",
    "import hda\n",
    "from getpass import getpass\n",
    "\n",
    "import xarray as xr\n",
    "import numpy as np\n",
    "import cf_xarray, rioxarray\n",
    "\n",
    "import time\n",
    "from datetime import datetime, timedelta\n",
    "\n",
    "from cdo import *\n",
    "cdo = Cdo()\n",
    "cdo.cleanTempDir()\n",
    "\n",
    "from matplotlib import pyplot as plt\n",
    "from matplotlib import colors\n",
    "from matplotlib import cm\n",
    "import colormaps as cmo\n",
    "\n",
    "from cartopy import crs as ccrs\n",
    "from cartopy import feature as cf\n",
    "\n",
    "import zipfile\n",
    "\n",
    "from rich.jupyter import print as rprint\n",
    "from rich.table import Table\n",
    "from rich.markdown import Markdown\n",
    "\n",
    "import warnings\n",
    "warnings.filterwarnings('ignore')\n",
    "\n",
    "from tqdm.auto import tqdm"
   ]
  },
  {
   "cell_type": "code",
   "execution_count": 2,
   "id": "9e0cd68c-6a66-4a80-a92c-2f9fc0db5302",
   "metadata": {},
   "outputs": [],
   "source": [
    "download_dir = os.path.join(os.path.expanduser('~'),\"sentinel-3_program\",\"downloaded-data\")\n",
    "result_dir = os.path.join(os.path.expanduser('~'),\"sentinel-3_program\",\"processed-data\")\n",
    "\n",
    "os.makedirs(download_dir, exist_ok=True)\n",
    "os.makedirs(result_dir, exist_ok=True)"
   ]
  },
  {
   "cell_type": "code",
   "execution_count": 3,
   "id": "ae1b1641-3a92-4cca-b319-6a35b5f633ce",
   "metadata": {},
   "outputs": [],
   "source": [
    "list_flags_common = ['LAND','INLAND_WATER','COASTLINE','CLOUD','CLOUD_AMBIGUOUS','CLOUD_MARGIN','INVALID','COSMETIC','SATURATED','SUSPECT','HISOLZEN','HIGHGLINT','SNOW_ICE']\n",
    "list_flags_process = ['AC_FAIL','WHITECAPS','ADJAC','RWNEG_O2','RWNEG_O3','RWNEG_O4','RWNEG_O5','RWNEG_O6','RWNEG_O7','RWNEG_O8']\n",
    "list_flags_oc4me = ['OC4ME_FAIL','TIDAL']\n",
    "list_flags_ocnn = ['OCNN_FAIL']\n",
    "\n",
    "def flag_data_fast(list_flag, flag_names, flag_values, flag_data, flag_type='WQSF'):\n",
    "    flag_bits = np.uint64()\n",
    "    if flag_type == 'SST':\n",
    "        flag_bits = np.uint8()\n",
    "    elif flag_type == 'WQSF_lsb':\n",
    "        flag_bits = np.uint32()\n",
    "    for flag in list_flag:\n",
    "        try:\n",
    "            flag_bits = flag_bits | flag_values[flag_names.index(flag)]\n",
    "        except:\n",
    "            print(flag + 'not present')\n",
    "    return (flag_data & flag_bits) > 0\t\t\t\n"
   ]
  },
  {
   "cell_type": "code",
   "execution_count": 4,
   "id": "04ad370e-f5a9-448e-89d7-3e237005f631",
   "metadata": {},
   "outputs": [
    {
     "name": "stdout",
     "output_type": "stream",
     "text": [
      "\u001b[H\u001b[2J"
     ]
    },
    {
     "data": {
      "text/html": [
       "<pre style=\"white-space:pre;overflow-x:auto;line-height:normal;font-family:Menlo,'DejaVu Sans Mono',consolas,'Courier New',monospace\">┏━━━━━━━━━━━━━━━━━━━━━━━━━━━━━━━━━━━━━━━━━━━━━━━━━━━━━━━━━━━━━━━━━━━━━━━━━━━━━━━━━━━━━━━━━━━━━━━━━━━━━━━━━━━━━━━━━┓\n",
       "┃                          <span style=\"font-weight: bold\">Welcome to Sentinel-3 OLCI Biogeochemical Data Access Program</span>                          ┃\n",
       "┗━━━━━━━━━━━━━━━━━━━━━━━━━━━━━━━━━━━━━━━━━━━━━━━━━━━━━━━━━━━━━━━━━━━━━━━━━━━━━━━━━━━━━━━━━━━━━━━━━━━━━━━━━━━━━━━━━┛\n",
       "\n",
       "This program is developed by Edwards Taufiqurrahman and the Integrated Marine Biosphere Research Group, Research   \n",
       "Centre for Oceanography, National Research and Innovation Agency, Indonesia.                                       \n",
       "\n",
       "At first, you will be asked the WEkEO <span style=\"color: #008080; text-decoration-color: #008080; background-color: #000000; font-weight: bold\">Username</span> and <span style=\"color: #008080; text-decoration-color: #008080; background-color: #000000; font-weight: bold\">Password</span> and data that you need. Therefore, before start, please\n",
       "make sure that you have a WEkEO Account (you can create one from this link: <a href=\"https://www.wekeo.eu/register\" target=\"_blank\"><span style=\"color: #000080; text-decoration-color: #000080; text-decoration: underline\">https://www.wekeo.eu/register</span></a>) and you \n",
       "should already know some information about data that you need.                                                     \n",
       "\n",
       "                                            <span style=\"font-weight: bold\">Enter your WEkEO Credential</span>                                            \n",
       "</pre>\n"
      ],
      "text/plain": [
       "┏━━━━━━━━━━━━━━━━━━━━━━━━━━━━━━━━━━━━━━━━━━━━━━━━━━━━━━━━━━━━━━━━━━━━━━━━━━━━━━━━━━━━━━━━━━━━━━━━━━━━━━━━━━━━━━━━━┓\n",
       "┃                          \u001b[1mWelcome to Sentinel-3 OLCI Biogeochemical Data Access Program\u001b[0m                          ┃\n",
       "┗━━━━━━━━━━━━━━━━━━━━━━━━━━━━━━━━━━━━━━━━━━━━━━━━━━━━━━━━━━━━━━━━━━━━━━━━━━━━━━━━━━━━━━━━━━━━━━━━━━━━━━━━━━━━━━━━━┛\n",
       "\n",
       "This program is developed by Edwards Taufiqurrahman and the Integrated Marine Biosphere Research Group, Research   \n",
       "Centre for Oceanography, National Research and Innovation Agency, Indonesia.                                       \n",
       "\n",
       "At first, you will be asked the WEkEO \u001b[1;36;40mUsername\u001b[0m and \u001b[1;36;40mPassword\u001b[0m and data that you need. Therefore, before start, please\n",
       "make sure that you have a WEkEO Account (you can create one from this link: \u001b]8;id=406204;https://www.wekeo.eu/register\u001b\\\u001b[4;34mhttps://www.wekeo.eu/register\u001b[0m\u001b]8;;\u001b\\) and you \n",
       "should already know some information about data that you need.                                                     \n",
       "\n",
       "                                            \u001b[1mEnter your WEkEO Credential\u001b[0m                                            \n"
      ]
     },
     "metadata": {},
     "output_type": "display_data"
    },
    {
     "name": "stdout",
     "output_type": "stream",
     "text": [
      "\n"
     ]
    },
    {
     "name": "stdin",
     "output_type": "stream",
     "text": [
      "Enter your WEkEO username:  edskywalker\n",
      "Enter your WEkEO password:  ········\n"
     ]
    },
    {
     "name": "stdout",
     "output_type": "stream",
     "text": [
      "\n",
      "Login successfull!. Your token is 0642e12a-7863-3b13-8966-9283e7f71ef0.\n"
     ]
    }
   ],
   "source": [
    "os.system('cls' if os.name == 'nt' else 'clear') \n",
    "\n",
    "intro_md = '''\n",
    "# Welcome to Sentinel-3 OLCI Biogeochemical Data Access Program\n",
    "\n",
    "This program is developed by Edwards Taufiqurrahman and the Integrated Marine Biosphere Research Group, Research Centre for Oceanography, National Research and Innovation Agency, Indonesia.\n",
    "\n",
    "At first, you will be asked the WEkEO `Username` and `Password` and data that you need. Therefore, before start, please make sure that you have a WEkEO Account (you can create one from this link: [https://www.wekeo.eu/register](https://www.wekeo.eu/register)) and you should already know some information about data that you need.\n",
    "\n",
    "### Enter your WEkEO Credential\n",
    "'''\n",
    "\n",
    "rprint(Markdown(intro_md))\n",
    "\n",
    "print()\n",
    "\n",
    "while True:\n",
    "    try:\n",
    "        user = input(\"Enter your WEkEO username: \")\n",
    "        passw = getpass(\"Enter your WEkEO password: \")\n",
    "        c = hda.Client(hda.Configuration(user=user, password=passw), progress=True, max_workers=1)\n",
    "        print()\n",
    "        print(f\"Login successfull!. Your token is {c.token}.\")\n",
    "        break\n",
    "    except KeyError:\n",
    "        print()\n",
    "        print('You entered wrong username and/or password.')"
   ]
  },
  {
   "cell_type": "code",
   "execution_count": 5,
   "id": "a346caad-ce0e-4178-a182-9e6203c2ee93",
   "metadata": {},
   "outputs": [
    {
     "name": "stdout",
     "output_type": "stream",
     "text": [
      "\u001b[H\u001b[2J"
     ]
    },
    {
     "data": {
      "text/html": [
       "<pre style=\"white-space:pre;overflow-x:auto;line-height:normal;font-family:Menlo,'DejaVu Sans Mono',consolas,'Courier New',monospace\">                                            <span style=\"font-weight: bold\">Enter Satellite Parameters</span>                                             \n",
       "\n",
       "Sentinel-3 is available in two satellites: Sentinel-3A and Sentinel-3B. Please note that Sentinel-3B is only       \n",
       "available from 18 May 2018.                                                                                        \n",
       "\n",
       "The Sentinel-3 dataset in WEkEO available in two time period <span style=\"color: #008080; text-decoration-color: #008080; background-color: #000000; font-weight: bold\">EO:EUM:DAT:SENTINEL-3:0556</span> (2016 - 2021) and          \n",
       "<span style=\"color: #008080; text-decoration-color: #008080; background-color: #000000; font-weight: bold\">EO:EUM:DAT:SENTINEL-3:OL_2_WFR___</span> (2021 - recent)                                                                  \n",
       "\n",
       "                                     <span style=\"color: #7f7f7f; text-decoration-color: #7f7f7f; font-weight: bold\">Enter the satellite designation (</span><span style=\"color: #7fbfbf; text-decoration-color: #7fbfbf; background-color: #000000; font-weight: bold\">A</span><span style=\"color: #7f7f7f; text-decoration-color: #7f7f7f; font-weight: bold\"> or </span><span style=\"color: #7fbfbf; text-decoration-color: #7fbfbf; background-color: #000000; font-weight: bold\">B</span><span style=\"color: #7f7f7f; text-decoration-color: #7f7f7f; font-weight: bold\">):</span>                                     \n",
       "\n",
       "<span style=\"color: #808000; text-decoration-color: #808000; font-weight: bold\"> • </span>Sentinel-3<span style=\"font-weight: bold\">A</span>                                                                                                     \n",
       "<span style=\"color: #808000; text-decoration-color: #808000; font-weight: bold\"> • </span>Sentinel-3<span style=\"font-weight: bold\">B</span>                                                                                                     \n",
       "\n",
       "Leave it blank if you want both Sentinel-3A and Sentinel-3B queried.                                               \n",
       "</pre>\n"
      ],
      "text/plain": [
       "                                            \u001b[1mEnter Satellite Parameters\u001b[0m                                             \n",
       "\n",
       "Sentinel-3 is available in two satellites: Sentinel-3A and Sentinel-3B. Please note that Sentinel-3B is only       \n",
       "available from 18 May 2018.                                                                                        \n",
       "\n",
       "The Sentinel-3 dataset in WEkEO available in two time period \u001b[1;36;40mEO:EUM:DAT:SENTINEL-3:0556\u001b[0m (2016 - 2021) and          \n",
       "\u001b[1;36;40mEO:EUM:DAT:SENTINEL-3:OL_2_WFR___\u001b[0m (2021 - recent)                                                                  \n",
       "\n",
       "                                     \u001b[1;2mEnter the satellite designation (\u001b[0m\u001b[1;2;36;40mA\u001b[0m\u001b[1;2m or \u001b[0m\u001b[1;2;36;40mB\u001b[0m\u001b[1;2m):\u001b[0m                                     \n",
       "\n",
       "\u001b[1;33m • \u001b[0mSentinel-3\u001b[1mA\u001b[0m                                                                                                     \n",
       "\u001b[1;33m • \u001b[0mSentinel-3\u001b[1mB\u001b[0m                                                                                                     \n",
       "\n",
       "Leave it blank if you want both Sentinel-3A and Sentinel-3B queried.                                               \n"
      ]
     },
     "metadata": {},
     "output_type": "display_data"
    },
    {
     "name": "stdout",
     "output_type": "stream",
     "text": [
      "\n"
     ]
    },
    {
     "name": "stdin",
     "output_type": "stream",
     "text": [
      "Satellite name:  a\n"
     ]
    },
    {
     "name": "stdout",
     "output_type": "stream",
     "text": [
      "\n",
      "\n"
     ]
    },
    {
     "data": {
      "text/html": [
       "<pre style=\"white-space:pre;overflow-x:auto;line-height:normal;font-family:Menlo,'DejaVu Sans Mono',consolas,'Courier New',monospace\">                                       <span style=\"color: #7f7f7f; text-decoration-color: #7f7f7f; font-weight: bold\">Enter Sentinel-3 dataset ID (</span><span style=\"color: #7fbfbf; text-decoration-color: #7fbfbf; background-color: #000000; font-weight: bold\">1</span><span style=\"color: #7f7f7f; text-decoration-color: #7f7f7f; font-weight: bold\"> or </span><span style=\"color: #7fbfbf; text-decoration-color: #7fbfbf; background-color: #000000; font-weight: bold\">2</span><span style=\"color: #7f7f7f; text-decoration-color: #7f7f7f; font-weight: bold\">)</span>                                        \n",
       "\n",
       "<span style=\"color: #808000; text-decoration-color: #808000; font-weight: bold\"> 1 </span>EO:EUM:DAT:SENTINEL-3:0556                                                                                      \n",
       "<span style=\"color: #808000; text-decoration-color: #808000; font-weight: bold\"> 2 </span>EO:EUM:DAT:SENTINEL-3:OL_2_WFR___                                                                               \n",
       "</pre>\n"
      ],
      "text/plain": [
       "                                       \u001b[1;2mEnter Sentinel-3 dataset ID (\u001b[0m\u001b[1;2;36;40m1\u001b[0m\u001b[1;2m or \u001b[0m\u001b[1;2;36;40m2\u001b[0m\u001b[1;2m)\u001b[0m                                        \n",
       "\n",
       "\u001b[1;33m 1 \u001b[0mEO:EUM:DAT:SENTINEL-3:0556                                                                                      \n",
       "\u001b[1;33m 2 \u001b[0mEO:EUM:DAT:SENTINEL-3:OL_2_WFR___                                                                               \n"
      ]
     },
     "metadata": {},
     "output_type": "display_data"
    },
    {
     "name": "stdout",
     "output_type": "stream",
     "text": [
      "\n"
     ]
    },
    {
     "name": "stdin",
     "output_type": "stream",
     "text": [
      "Satellite ID:  1\n"
     ]
    },
    {
     "name": "stdout",
     "output_type": "stream",
     "text": [
      "\n",
      "\n"
     ]
    }
   ],
   "source": [
    "time.sleep(1)\n",
    "os.system('cls' if os.name == 'nt' else 'clear') \n",
    "\n",
    "sat_md_1 = '''\n",
    "### Enter Satellite Parameters\n",
    "\n",
    "Sentinel-3 is available in two satellites: Sentinel-3A and Sentinel-3B. Please note that Sentinel-3B is only available from 18 May 2018.\n",
    "\n",
    "The Sentinel-3 dataset in WEkEO available in two time period `EO:EUM:DAT:SENTINEL-3:0556` (2016 - 2021) and `EO:EUM:DAT:SENTINEL-3:OL_2_WFR___` (2021 - recent)\n",
    "\n",
    "#### Enter the satellite designation (`A` or `B`):\n",
    "\n",
    "- Sentinel-3**A**\n",
    "- Sentinel-3**B**\n",
    "\n",
    "Leave it blank if you want both Sentinel-3A and Sentinel-3B queried.\n",
    "\n",
    "'''\n",
    "\n",
    "rprint(Markdown(sat_md_1))\n",
    "print()\n",
    "\n",
    "sat_nm = input(\"Satellite name: \")\n",
    "\n",
    "print()\n",
    "\n",
    "if sat_nm == 'a' or sat_nm == 'A':\n",
    "    sat = 'Sentinel-3A'\n",
    "    print()\n",
    "elif sat_nm == 'b' or sat_nm == 'B':\n",
    "    sat = 'Sentinel-3B'\n",
    "    print()\n",
    "else:\n",
    "    sat = ''\n",
    "    print()\n",
    "\n",
    "sat_md_2 = '''\n",
    "#### Enter Sentinel-3 dataset ID (`1` or `2`)\n",
    "\n",
    "1. EO:EUM:DAT:SENTINEL-3:0556\n",
    "2. EO:EUM:DAT:SENTINEL-3:OL_2_WFR___\n",
    "'''\n",
    "\n",
    "rprint(Markdown(sat_md_2))\n",
    "\n",
    "print()\n",
    "\n",
    "while True:\n",
    "    sat_id = int(input('Satellite ID: '))\n",
    "\n",
    "    if sat_id == 1:\n",
    "        dataset_id = 'EO:EUM:DAT:SENTINEL-3:0556'\n",
    "        print()\n",
    "        break\n",
    "    elif sat_id == 2:\n",
    "        dataset_id = 'EO:EUM:DAT:SENTINEL-3:OL_2_WFR___'\n",
    "        print()\n",
    "        break\n",
    "    else:\n",
    "        print()\n",
    "        rprint(\"You put wrong number. Please try again!\")\n",
    "\n",
    "print()"
   ]
  },
  {
   "cell_type": "code",
   "execution_count": 7,
   "id": "d644327a-877c-4f22-bb99-53598956e6d3",
   "metadata": {},
   "outputs": [
    {
     "name": "stdout",
     "output_type": "stream",
     "text": [
      "\u001b[H\u001b[2J"
     ]
    },
    {
     "data": {
      "text/html": [
       "<pre style=\"white-space:pre;overflow-x:auto;line-height:normal;font-family:Menlo,'DejaVu Sans Mono',consolas,'Courier New',monospace\">Please input your area of interest. The coordinates should be in <span style=\"font-weight: bold\">decimal format</span> with minus (<span style=\"color: #008080; text-decoration-color: #008080; background-color: #000000; font-weight: bold\">-</span>) sign for            \n",
       "south-of-equator latitude or west-of-greenwich longitude.                                                          \n",
       "</pre>\n"
      ],
      "text/plain": [
       "Please input your area of interest. The coordinates should be in \u001b[1mdecimal format\u001b[0m with minus (\u001b[1;36;40m-\u001b[0m) sign for            \n",
       "south-of-equator latitude or west-of-greenwich longitude.                                                          \n"
      ]
     },
     "metadata": {},
     "output_type": "display_data"
    },
    {
     "name": "stdin",
     "output_type": "stream",
     "text": [
      "North point:  -0.81\n",
      "South point:  -1.11\n",
      "West point:  99.85\n",
      "East point:  100.45\n"
     ]
    }
   ],
   "source": [
    "time.sleep(1)\n",
    "os.system('cls' if os.name == 'nt' else 'clear') \n",
    "\n",
    "area_md = '''\n",
    "Please input your area of interest. The coordinates should be in **decimal format** with minus (`-`) sign for south-of-equator latitude or west-of-greenwich longitude.\n",
    "'''\n",
    "# Area of interest\n",
    "rprint(Markdown(area_md))\n",
    "\n",
    "north = float(input('North point: ')) # -6.85\n",
    "south = float(input('South point: ')) # -7.95\n",
    "west = float(input('West point: ')) # 112.66\n",
    "east = float(input('East point: ')) # 114.65\n",
    "\n",
    "bbox = [west, south, east, north]\n",
    "extent = [west, east, north, south]\n",
    "bbox_str = f'{west},{east},{south},{north}' \n",
    "\n",
    "# Create a dummy dataset based on the area of interest\n",
    "resolution = 300\n",
    "resolution_degrees = resolution / 111320\n",
    "\n",
    "num_lon = int(np.ceil((east - west) / resolution_degrees)) + 1\n",
    "num_lat = int(np.ceil((north - south) / resolution_degrees)) + 1\n",
    "\n",
    "lon = np.linspace(west, east, num_lon)\n",
    "lat = np.linspace(south, north, num_lat)\n",
    "\n",
    "ds = xr.Dataset(\n",
    "    coords={\n",
    "        \"lon\": ([\"lon\"], lon),\n",
    "        \"lat\": ([\"lat\"], lat),\n",
    "    }\n",
    ")\n",
    "\n",
    "ds.lat.attrs = {\n",
    "    'units' : 'degrees_north',\n",
    "    'unit_long' : \"Degrees North\",\n",
    "    'standard_name' : \"latitude\",\n",
    "    'long_name' : \"Latitude\",\n",
    "    'axis' : 'Y'\n",
    "}\n",
    "\n",
    "ds.lon.attrs = {\n",
    "    'units' : 'degrees_east',\n",
    "    'unit_long' : \"Degrees East\",\n",
    "    'standard_name' : \"longitude\",\n",
    "    'long_name' : \"Longitude\",\n",
    "    'axis' : 'X'\n",
    "}\n",
    "\n",
    "ds[\"data\"] = ([\"lat\", \"lon\"], np.zeros((num_lat, num_lon)))\n",
    "\n",
    "ds.rio.write_crs('epsg:4326', inplace=True)\n",
    "\n",
    "ds.to_netcdf(download_dir + '/grid_data.nc')\n",
    "dsinput = download_dir + '/grid_data.nc'\n",
    "\n",
    "grids = cdo.griddes(input = dsinput)\n",
    "\n",
    "gridfile = os.path.join(os.getcwd(), 'gridfile.txt') \n",
    "\n",
    "with open(gridfile, 'w') as f:\n",
    "    print(\"\\n\".join(line.strip(\"'\") for line in grids), file = f)"
   ]
  },
  {
   "cell_type": "code",
   "execution_count": 8,
   "id": "4f2ea1cb-6682-4f80-adf0-a86ef6a23c1d",
   "metadata": {},
   "outputs": [
    {
     "name": "stdout",
     "output_type": "stream",
     "text": [
      "\u001b[H\u001b[2J"
     ]
    },
    {
     "data": {
      "text/html": [
       "<pre style=\"white-space:pre;overflow-x:auto;line-height:normal;font-family:Menlo,'DejaVu Sans Mono',consolas,'Courier New',monospace\">                                                 <span style=\"font-weight: bold\">Time of Interest</span>                                                  \n",
       "\n",
       "Please input the start date and end date of your interest. The dates should be in <span style=\"color: #008080; text-decoration-color: #008080; background-color: #000000; font-weight: bold\">YYYY-MM-DD</span> format.               \n",
       "</pre>\n"
      ],
      "text/plain": [
       "                                                 \u001b[1mTime of Interest\u001b[0m                                                  \n",
       "\n",
       "Please input the start date and end date of your interest. The dates should be in \u001b[1;36;40mYYYY-MM-DD\u001b[0m format.               \n"
      ]
     },
     "metadata": {},
     "output_type": "display_data"
    },
    {
     "name": "stdout",
     "output_type": "stream",
     "text": [
      "\n"
     ]
    },
    {
     "name": "stdin",
     "output_type": "stream",
     "text": [
      "Time start:  2018-04-15\n",
      "Time end:  2018-05-16\n"
     ]
    }
   ],
   "source": [
    "time.sleep(1)\n",
    "os.system('cls' if os.name == 'nt' else 'clear') \n",
    "\n",
    "## Time of interest\n",
    "time_md = '''\n",
    "### Time of Interest\n",
    "\n",
    "Please input the start date and end date of your interest. The dates should be in `YYYY-MM-DD` format.\n",
    "'''\n",
    "\n",
    "rprint(Markdown(time_md))\n",
    "\n",
    "print()\n",
    "dtstart = input('Time start: ')\n",
    "dtend = input('Time end: ')"
   ]
  },
  {
   "cell_type": "code",
   "execution_count": 9,
   "id": "7f3d92dd-44f1-4d41-a2b5-d4fa58636069",
   "metadata": {},
   "outputs": [
    {
     "name": "stdout",
     "output_type": "stream",
     "text": [
      "\u001b[H\u001b[2J"
     ]
    },
    {
     "data": {
      "text/html": [
       "<pre style=\"white-space:pre;overflow-x:auto;line-height:normal;font-family:Menlo,'DejaVu Sans Mono',consolas,'Courier New',monospace\">                                                    <span style=\"font-weight: bold\">Data Query</span>                                                     \n",
       "\n",
       "Below is the resume of data query based on your input.                                                             \n",
       "</pre>\n"
      ],
      "text/plain": [
       "                                                    \u001b[1mData Query\u001b[0m                                                     \n",
       "\n",
       "Below is the resume of data query based on your input.                                                             \n"
      ]
     },
     "metadata": {},
     "output_type": "display_data"
    },
    {
     "data": {
      "text/html": [
       "<pre style=\"white-space:pre;overflow-x:auto;line-height:normal;font-family:Menlo,'DejaVu Sans Mono',consolas,'Courier New',monospace\"><span style=\"font-style: italic\">                 Search Query                 </span>\n",
       "┏━━━━━━━━━━━━┳━━━━━━━━━━━━━━━━━━━━━━━━━━━━━━━┓\n",
       "┃<span style=\"font-weight: bold\"> Parameter  </span>┃<span style=\"font-weight: bold\"> Value                         </span>┃\n",
       "┡━━━━━━━━━━━━╇━━━━━━━━━━━━━━━━━━━━━━━━━━━━━━━┩\n",
       "│<span style=\"color: #008080; text-decoration-color: #008080\"> dataset_id </span>│<span style=\"color: #00ff00; text-decoration-color: #00ff00\"> EO:EUM:DAT:SENTINEL-3:0556    </span>│\n",
       "│<span style=\"color: #008080; text-decoration-color: #008080\"> dtstart    </span>│<span style=\"color: #00ff00; text-decoration-color: #00ff00\"> 2018-04-15                    </span>│\n",
       "│<span style=\"color: #008080; text-decoration-color: #008080\"> dtend      </span>│<span style=\"color: #00ff00; text-decoration-color: #00ff00\"> 2018-05-16                    </span>│\n",
       "│<span style=\"color: #008080; text-decoration-color: #008080\"> bbox       </span>│<span style=\"color: #00ff00; text-decoration-color: #00ff00\"> [99.85, -1.11, 100.45, -0.81] </span>│\n",
       "│<span style=\"color: #008080; text-decoration-color: #008080\"> sat        </span>│<span style=\"color: #00ff00; text-decoration-color: #00ff00\"> Sentinel-3A                   </span>│\n",
       "│<span style=\"color: #008080; text-decoration-color: #008080\"> type       </span>│<span style=\"color: #00ff00; text-decoration-color: #00ff00\"> OL_2_WFR___                   </span>│\n",
       "│<span style=\"color: #008080; text-decoration-color: #008080\"> timeliness </span>│<span style=\"color: #00ff00; text-decoration-color: #00ff00\"> NT                            </span>│\n",
       "└────────────┴───────────────────────────────┘\n",
       "</pre>\n"
      ],
      "text/plain": [
       "\u001b[3m                 Search Query                 \u001b[0m\n",
       "┏━━━━━━━━━━━━┳━━━━━━━━━━━━━━━━━━━━━━━━━━━━━━━┓\n",
       "┃\u001b[1m \u001b[0m\u001b[1mParameter \u001b[0m\u001b[1m \u001b[0m┃\u001b[1m \u001b[0m\u001b[1mValue                        \u001b[0m\u001b[1m \u001b[0m┃\n",
       "┡━━━━━━━━━━━━╇━━━━━━━━━━━━━━━━━━━━━━━━━━━━━━━┩\n",
       "│\u001b[36m \u001b[0m\u001b[36mdataset_id\u001b[0m\u001b[36m \u001b[0m│\u001b[92m \u001b[0m\u001b[92mEO:EUM:DAT:SENTINEL-3:0556   \u001b[0m\u001b[92m \u001b[0m│\n",
       "│\u001b[36m \u001b[0m\u001b[36mdtstart   \u001b[0m\u001b[36m \u001b[0m│\u001b[92m \u001b[0m\u001b[92m2018-04-15                   \u001b[0m\u001b[92m \u001b[0m│\n",
       "│\u001b[36m \u001b[0m\u001b[36mdtend     \u001b[0m\u001b[36m \u001b[0m│\u001b[92m \u001b[0m\u001b[92m2018-05-16                   \u001b[0m\u001b[92m \u001b[0m│\n",
       "│\u001b[36m \u001b[0m\u001b[36mbbox      \u001b[0m\u001b[36m \u001b[0m│\u001b[92m \u001b[0m\u001b[92m[99.85, -1.11, 100.45, -0.81]\u001b[0m\u001b[92m \u001b[0m│\n",
       "│\u001b[36m \u001b[0m\u001b[36msat       \u001b[0m\u001b[36m \u001b[0m│\u001b[92m \u001b[0m\u001b[92mSentinel-3A                  \u001b[0m\u001b[92m \u001b[0m│\n",
       "│\u001b[36m \u001b[0m\u001b[36mtype      \u001b[0m\u001b[36m \u001b[0m│\u001b[92m \u001b[0m\u001b[92mOL_2_WFR___                  \u001b[0m\u001b[92m \u001b[0m│\n",
       "│\u001b[36m \u001b[0m\u001b[36mtimeliness\u001b[0m\u001b[36m \u001b[0m│\u001b[92m \u001b[0m\u001b[92mNT                           \u001b[0m\u001b[92m \u001b[0m│\n",
       "└────────────┴───────────────────────────────┘\n"
      ]
     },
     "metadata": {},
     "output_type": "display_data"
    }
   ],
   "source": [
    "time.sleep(1)\n",
    "os.system('cls' if os.name == 'nt' else 'clear') \n",
    "\n",
    "resume_md = '''\n",
    "### Data Query\n",
    "\n",
    "Below is the resume of data query based on your input.\n",
    "'''\n",
    "\n",
    "query = {\n",
    "  \"dataset_id\": dataset_id, \n",
    "  \"dtstart\": dtstart,\n",
    "  \"dtend\": dtend,\n",
    "  \"bbox\": bbox,\n",
    "  \"sat\": sat,\n",
    "  \"type\": \"OL_2_WFR___\",\n",
    "  \"timeliness\": \"NT\"\n",
    "}\n",
    "\n",
    "query_tab = Table(title=\"Search Query\")\n",
    "query_tab.add_column('Parameter', style='cyan')\n",
    "query_tab.add_column('Value', style='bright_green')\n",
    "\n",
    "for col1, col2 in query.items():\n",
    "    query_tab.add_row(str(col1), str(col2))\n",
    "\n",
    "rprint(Markdown(resume_md))\n",
    "rprint(query_tab)"
   ]
  },
  {
   "cell_type": "code",
   "execution_count": 10,
   "id": "130a9c18-b998-424f-a053-25cd919660f7",
   "metadata": {},
   "outputs": [
    {
     "name": "stdout",
     "output_type": "stream",
     "text": [
      "\u001b[H\u001b[2J"
     ]
    },
    {
     "data": {
      "text/html": [
       "<pre style=\"white-space:pre;overflow-x:auto;line-height:normal;font-family:Menlo,'DejaVu Sans Mono',consolas,'Courier New',monospace\">Please select parameters you want to download.                                                                     \n",
       "\n",
       "<span style=\"color: #808000; text-decoration-color: #808000; font-weight: bold\"> 1 </span>Download geophysical (chlorophyll-a and total suspended matter)                                                 \n",
       "<span style=\"color: #808000; text-decoration-color: #808000; font-weight: bold\"> 2 </span>Download water surface reflectances.                                                                            \n",
       "</pre>\n"
      ],
      "text/plain": [
       "Please select parameters you want to download.                                                                     \n",
       "\n",
       "\u001b[1;33m 1 \u001b[0mDownload geophysical (chlorophyll-a and total suspended matter)                                                 \n",
       "\u001b[1;33m 2 \u001b[0mDownload water surface reflectances.                                                                            \n"
      ]
     },
     "metadata": {},
     "output_type": "display_data"
    },
    {
     "name": "stdout",
     "output_type": "stream",
     "text": [
      "\n"
     ]
    },
    {
     "name": "stdin",
     "output_type": "stream",
     "text": [
      "Parameters:  1\n"
     ]
    },
    {
     "name": "stdout",
     "output_type": "stream",
     "text": [
      "\n",
      "Geophysical data will be processed.\n"
     ]
    }
   ],
   "source": [
    "time.sleep(1)\n",
    "os.system('cls' if os.name == 'nt' else 'clear') \n",
    "\n",
    "params_md = '''\n",
    "Please select parameters you want to download. \n",
    "\n",
    "1. Download geophysical (chlorophyll-a and total suspended matter)\n",
    "2. Download water surface reflectances.\n",
    "'''\n",
    "rprint(Markdown(params_md))\n",
    "\n",
    "print()\n",
    "\n",
    "while True:\n",
    "    parameters = int(input('Parameters: '))\n",
    "\n",
    "    if parameters == 1:\n",
    "        nick = 'geophysical-data'\n",
    "        print()\n",
    "        print('Geophysical data will be processed.')\n",
    "        break\n",
    "    elif parameters == 2:\n",
    "        nick = 'optical-data'\n",
    "        print()\n",
    "        print('Reflectance data will be processed.')\n",
    "        break\n",
    "    else:\n",
    "        print(\"You put wrong number. Please try again!\")"
   ]
  },
  {
   "cell_type": "code",
   "execution_count": 11,
   "id": "414b6c18-fa3e-4de3-a665-c4fe4b1ba186",
   "metadata": {},
   "outputs": [
    {
     "name": "stdout",
     "output_type": "stream",
     "text": [
      "SearchResults[items=18,volume=6.5GB]\n"
     ]
    }
   ],
   "source": [
    "search_result = c.search(query)\n",
    "print(search_result)"
   ]
  },
  {
   "cell_type": "code",
   "execution_count": 12,
   "id": "d46e02c3-0139-47dc-ad47-14ee20bd644f",
   "metadata": {
    "scrolled": true
   },
   "outputs": [
    {
     "data": {
      "application/vnd.jupyter.widget-view+json": {
       "model_id": "",
       "version_major": 2,
       "version_minor": 0
      },
      "text/plain": [
       "Processing:   0%|          | 0/18 [00:00<?, ?it/s]"
      ]
     },
     "metadata": {},
     "output_type": "display_data"
    },
    {
     "name": "stdout",
     "output_type": "stream",
     "text": [
      "Processing data no. 1 started.\n",
      "Downloading data.\n"
     ]
    },
    {
     "name": "stderr",
     "output_type": "stream",
     "text": [
      "                                                   \r"
     ]
    },
    {
     "name": "stdout",
     "output_type": "stream",
     "text": [
      "Unzipping data.\n",
      "Selecting and masking data.\n",
      "Subsetting data.\n",
      "#1 process done.\n",
      "\u001b[H\u001b[2JProcessing data no. 2 started.\n",
      "Downloading data.\n"
     ]
    },
    {
     "name": "stderr",
     "output_type": "stream",
     "text": [
      "                                                   \r"
     ]
    },
    {
     "name": "stdout",
     "output_type": "stream",
     "text": [
      "Unzipping data.\n",
      "Selecting and masking data.\n",
      "Subsetting data.\n",
      "#2 process done.\n",
      "\u001b[H\u001b[2JProcessing data no. 3 started.\n",
      "Downloading data.\n"
     ]
    },
    {
     "name": "stderr",
     "output_type": "stream",
     "text": [
      "                                                   \r"
     ]
    },
    {
     "name": "stdout",
     "output_type": "stream",
     "text": [
      "Unzipping data.\n",
      "Selecting and masking data.\n",
      "Subsetting data.\n",
      "#3 process done.\n",
      "\u001b[H\u001b[2JProcessing data no. 4 started.\n",
      "Downloading data.\n"
     ]
    },
    {
     "name": "stderr",
     "output_type": "stream",
     "text": [
      "                                                   \r"
     ]
    },
    {
     "name": "stdout",
     "output_type": "stream",
     "text": [
      "Unzipping data.\n",
      "Selecting and masking data.\n",
      "Subsetting data.\n",
      "#4 process done.\n",
      "\u001b[H\u001b[2JProcessing data no. 5 started.\n",
      "Downloading data.\n"
     ]
    },
    {
     "name": "stderr",
     "output_type": "stream",
     "text": [
      "                                                   \r"
     ]
    },
    {
     "name": "stdout",
     "output_type": "stream",
     "text": [
      "Unzipping data.\n",
      "Selecting and masking data.\n",
      "Subsetting data.\n",
      "#5 process done.\n",
      "\u001b[H\u001b[2JProcessing data no. 6 started.\n",
      "Downloading data.\n"
     ]
    },
    {
     "name": "stderr",
     "output_type": "stream",
     "text": [
      "                                                   \r"
     ]
    },
    {
     "name": "stdout",
     "output_type": "stream",
     "text": [
      "Unzipping data.\n",
      "Selecting and masking data.\n",
      "Subsetting data.\n",
      "#6 process done.\n",
      "\u001b[H\u001b[2JProcessing data no. 7 started.\n",
      "Downloading data.\n"
     ]
    },
    {
     "name": "stderr",
     "output_type": "stream",
     "text": [
      "                                                   \r"
     ]
    },
    {
     "name": "stdout",
     "output_type": "stream",
     "text": [
      "Unzipping data.\n",
      "Selecting and masking data.\n",
      "Subsetting data.\n",
      "#7 process done.\n",
      "\u001b[H\u001b[2JProcessing data no. 8 started.\n",
      "Downloading data.\n"
     ]
    },
    {
     "name": "stderr",
     "output_type": "stream",
     "text": [
      "                                                   \r"
     ]
    },
    {
     "name": "stdout",
     "output_type": "stream",
     "text": [
      "Unzipping data.\n",
      "Selecting and masking data.\n",
      "Subsetting data.\n",
      "#8 process done.\n",
      "\u001b[H\u001b[2JProcessing data no. 9 started.\n",
      "Downloading data.\n"
     ]
    },
    {
     "name": "stderr",
     "output_type": "stream",
     "text": [
      "                                                   \r"
     ]
    },
    {
     "name": "stdout",
     "output_type": "stream",
     "text": [
      "Unzipping data.\n",
      "Selecting and masking data.\n",
      "Subsetting data.\n",
      "#9 process done.\n",
      "\u001b[H\u001b[2JProcessing data no. 10 started.\n",
      "Downloading data.\n"
     ]
    },
    {
     "name": "stderr",
     "output_type": "stream",
     "text": [
      "                                                   \r"
     ]
    },
    {
     "name": "stdout",
     "output_type": "stream",
     "text": [
      "Unzipping data.\n",
      "Selecting and masking data.\n",
      "Subsetting data.\n",
      "#10 process done.\n",
      "\u001b[H\u001b[2JProcessing data no. 11 started.\n",
      "Downloading data.\n"
     ]
    },
    {
     "name": "stderr",
     "output_type": "stream",
     "text": [
      "                                                   \r"
     ]
    },
    {
     "name": "stdout",
     "output_type": "stream",
     "text": [
      "Unzipping data.\n",
      "Selecting and masking data.\n",
      "Subsetting data.\n",
      "#11 process done.\n",
      "\u001b[H\u001b[2JProcessing data no. 12 started.\n",
      "Downloading data.\n"
     ]
    },
    {
     "name": "stderr",
     "output_type": "stream",
     "text": [
      "                                                   \r"
     ]
    },
    {
     "name": "stdout",
     "output_type": "stream",
     "text": [
      "Unzipping data.\n",
      "Selecting and masking data.\n",
      "Subsetting data.\n",
      "#12 process done.\n",
      "\u001b[H\u001b[2JProcessing data no. 13 started.\n",
      "Downloading data.\n"
     ]
    },
    {
     "name": "stderr",
     "output_type": "stream",
     "text": [
      "                                                   \r"
     ]
    },
    {
     "name": "stdout",
     "output_type": "stream",
     "text": [
      "Unzipping data.\n",
      "Selecting and masking data.\n",
      "Subsetting data.\n",
      "#13 process done.\n",
      "\u001b[H\u001b[2JProcessing data no. 14 started.\n",
      "Downloading data.\n"
     ]
    },
    {
     "name": "stderr",
     "output_type": "stream",
     "text": [
      "                                                   \r"
     ]
    },
    {
     "name": "stdout",
     "output_type": "stream",
     "text": [
      "Unzipping data.\n",
      "Selecting and masking data.\n",
      "Subsetting data.\n",
      "#14 process done.\n",
      "\u001b[H\u001b[2JProcessing data no. 15 started.\n",
      "Downloading data.\n"
     ]
    },
    {
     "name": "stderr",
     "output_type": "stream",
     "text": [
      "                                                   \r"
     ]
    },
    {
     "name": "stdout",
     "output_type": "stream",
     "text": [
      "Unzipping data.\n",
      "Selecting and masking data.\n",
      "Subsetting data.\n",
      "#15 process done.\n",
      "\u001b[H\u001b[2JProcessing data no. 16 started.\n",
      "Downloading data.\n"
     ]
    },
    {
     "name": "stderr",
     "output_type": "stream",
     "text": [
      "                                                   \r"
     ]
    },
    {
     "name": "stdout",
     "output_type": "stream",
     "text": [
      "Unzipping data.\n",
      "Selecting and masking data.\n",
      "Subsetting data.\n",
      "#16 process done.\n",
      "\u001b[H\u001b[2JProcessing data no. 17 started.\n",
      "Downloading data.\n"
     ]
    },
    {
     "name": "stderr",
     "output_type": "stream",
     "text": [
      "                                                   \r"
     ]
    },
    {
     "name": "stdout",
     "output_type": "stream",
     "text": [
      "Unzipping data.\n",
      "Selecting and masking data.\n",
      "Subsetting data.\n",
      "#17 process done.\n",
      "\u001b[H\u001b[2JProcessing data no. 18 started.\n",
      "Downloading data.\n"
     ]
    },
    {
     "name": "stderr",
     "output_type": "stream",
     "text": [
      "                                                   \r"
     ]
    },
    {
     "name": "stdout",
     "output_type": "stream",
     "text": [
      "Unzipping data.\n",
      "Selecting and masking data.\n",
      "Subsetting data.\n",
      "#18 process done.\n",
      "\u001b[H\u001b[2J"
     ]
    }
   ],
   "source": [
    "for index, result in tqdm(enumerate(search_result.results, start=0), desc=\"Processing: \", total = len(search_result.results), position=0, leave=False):\n",
    "    print(f'Processing data no. {index + 1} started.')\n",
    "    file_id = result['id']\n",
    "\n",
    "    print(f'Downloading data.')\n",
    "    search_result[index].download()\n",
    "\n",
    "    start = datetime.strptime(result['properties']['startdate'], '%Y-%m-%dT%H:%M:%S%fZ')\n",
    "    end = datetime.strptime(result['properties']['enddate'], '%Y-%m-%dT%H:%M:%S%fZ')\n",
    "    timestamp = start + (end - start) / 2\n",
    "\n",
    "    with zipfile.ZipFile(file_id + '.zip', 'r') as zip_ref:\n",
    "        print(f'Unzipping data.')\n",
    "        zip_ref.extractall(download_dir)\n",
    "        os.remove(file_id + '.zip')\n",
    "\n",
    "    print(f'Selecting and masking data.')\n",
    "    \n",
    "    geo_coords = xr.open_dataset(os.path.join(download_dir, file_id, 'geo_coordinates.nc'))\n",
    "    \n",
    "    flag_file = xr.open_dataset(os.path.join(download_dir, file_id, 'wqsf.nc'))\n",
    "    flag_names = flag_file['WQSF'].flag_meanings.split(' ') #flag names\n",
    "    flag_vals = flag_file['WQSF'].flag_masks #flag bit values\n",
    "    flags_data = flag_file.variables['WQSF'].data\n",
    "        \n",
    "    dta = xr.Dataset()\n",
    "    dta['longitude'] = geo_coords['longitude']\n",
    "    dta['latitude'] = geo_coords['latitude']\n",
    "    \n",
    "    geo_coords.close()\n",
    "    flag_file.close()\n",
    "    gc.collect()\n",
    "\n",
    "    if parameters == 1:\n",
    "        keys = [\"chl_nn\",\"tsm_nn\",\"chl_oc4me\"]\n",
    "        for k in keys:\n",
    "            if not k == 'chl_oc4me':\n",
    "                list_flags = list_flags_common + list_flags_ocnn\n",
    "            else:\n",
    "                list_flags = list_flags_common + list_flags_process + list_flags_oc4me\n",
    "    \n",
    "            ds = xr.open_dataset(os.path.join(download_dir, file_id, f'{k}.nc'))\n",
    "            dtarr = ds[str(k.upper())].data\n",
    "            flag_mask = flag_data_fast(list_flags, flag_names, flag_vals, flags_data, flag_type='WQSF')\n",
    "            \n",
    "            flagged = np.where(flag_mask, np.nan, dtarr)\n",
    "            \n",
    "            dta[str(k)] = xr.DataArray(flagged, dims=('rows','columns'))\n",
    "            dta[str(k)].attrs = ds[str(k.upper())].attrs\n",
    "    elif parameters == 2:\n",
    "        keys = ['Oa01_reflectance','Oa02_reflectance','Oa03_reflectance','Oa04_reflectance','Oa05_reflectance','Oa06_reflectance','Oa07_reflectance','Oa08_reflectance','Oa09_reflectance','Oa10_reflectance','Oa11_reflectance','Oa12_reflectance','Oa16_reflectance','Oa17_reflectance','Oa18_reflectance','Oa21_reflectance']\n",
    "        list_flags = list_flags_common + list_flags_process\n",
    "        for k in keys:\n",
    "            ds = xr.open_dataset(os.path.join(download_dir, file_id, f'{k}.nc'))\n",
    "            dtarr = ds[str(k)].data\n",
    "            flag_mask = flag_data_fast(list_flags, flag_names, flag_vals, flags_data, flag_type='WQSF')\n",
    "            \n",
    "            flagged = np.where(flag_mask, np.nan, dtarr)\n",
    "            \n",
    "            dta[str(k)] = xr.DataArray(flagged, dims=('rows','columns'))\n",
    "            dta[str(k)].attrs = ds[str(k)].attrs\n",
    "    \n",
    "    dta = dta.set_coords(['latitude','longitude'])\n",
    "    dta = dta.expand_dims(dim={\"time\":[timestamp]}, axis=0)\n",
    "    dta = dta.cf.add_bounds(['latitude','longitude'])\n",
    "\n",
    "    print(f'Subsetting data.')\n",
    "\n",
    "    reggrid = cdo.sellonlatbox(bbox_str, input = dta, returnXDataset = True)\n",
    "    \n",
    "    comp = dict(zlib=True, _FillValue=-99999.0, complevel=4)\n",
    "    encoding = {var: comp for var in reggrid.data_vars}\n",
    "    \n",
    "    reggrid.to_netcdf(\n",
    "        os.path.join(download_dir , file_id + f'_{nick}.nc'),\n",
    "        format='NETCDF4', \n",
    "        unlimited_dims=['time'],\n",
    "        encoding=encoding\n",
    "    )\n",
    "    \n",
    "    cdo.cleanTempDir()\n",
    "\n",
    "    dataset = xr.open_dataset(os.path.join(download_dir , file_id + f'_{nick}.nc'), decode_coords=\"all\")\n",
    "\n",
    "    reggridded = cdo.remapcon(gridfile, input = dataset, returnXDataset = True)\n",
    "    \n",
    "    comp = dict(zlib=True, _FillValue=-99999.0, complevel=4)\n",
    "    encoding = {var: comp for var in reggridded.data_vars}\n",
    "    \n",
    "    reggridded.to_netcdf(\n",
    "        os.path.join(result_dir , file_id + f'_{nick}.nc'),\n",
    "        format='NETCDF4', \n",
    "        unlimited_dims=['time'],\n",
    "        encoding=encoding\n",
    "    )\n",
    "    \n",
    "    cdo.cleanTempDir()\n",
    "    \n",
    "    gc.collect()\n",
    "    \n",
    "    for allitem in os.listdir(download_dir):\n",
    "        path = os.path.join(download_dir,allitem)\n",
    "        if os.path.isfile(path):\n",
    "            os.remove(path)\n",
    "        elif os.path.isdir(path):\n",
    "            shutil.rmtree(path)\n",
    "\n",
    "    print(f'#{index + 1} process done.')\n",
    "\n",
    "    time.sleep(1)\n",
    "    os.system('cls' if os.name == 'nt' else 'clear') \n"
   ]
  },
  {
   "cell_type": "code",
   "execution_count": 13,
   "id": "b7338952-75dd-4d65-8d43-7c841d1b9816",
   "metadata": {},
   "outputs": [
    {
     "name": "stdout",
     "output_type": "stream",
     "text": [
      "<xarray.Dataset> Size: 9MB\n",
      "Dimensions:    (lon: 224, lat: 113, time: 29)\n",
      "Coordinates:\n",
      "  * lon        (lon) float64 2kB 99.85 99.85 99.86 99.86 ... 100.4 100.4 100.5\n",
      "  * lat        (lat) float64 904B -1.11 -1.107 -1.105 ... -0.8154 -0.8127 -0.81\n",
      "  * time       (time) datetime64[ns] 232B 2018-04-17 2018-04-18 ... 2018-05-15\n",
      "Data variables:\n",
      "    chl_nn     (time, lat, lon) float32 3MB dask.array<chunksize=(1, 113, 224), meta=np.ndarray>\n",
      "    tsm_nn     (time, lat, lon) float32 3MB dask.array<chunksize=(1, 113, 224), meta=np.ndarray>\n",
      "    chl_oc4me  (time, lat, lon) float32 3MB dask.array<chunksize=(1, 113, 224), meta=np.ndarray>\n",
      "Attributes:\n",
      "    CDI:          Climate Data Interface version 2.4.1 (https://mpimet.mpg.de...\n",
      "    Conventions:  CF-1.6\n",
      "    history:      Fri Jul 19 08:06:22 2024: cdo -O -s -f nc -remapcon,/home/j...\n",
      "    CDO:          Climate Data Operators version 2.4.1 (https://mpimet.mpg.de...\n"
     ]
    }
   ],
   "source": [
    "files = glob.glob(os.path.join(result_dir , f'*{nick}.nc'))\n",
    "ds = xr.open_mfdataset(files, decode_coords=\"all\")\n",
    "\n",
    "ds_day = ds.resample(time=\"D\").mean()\n",
    "ds_day.to_netcdf(os.path.join(result_dir, f'Sen-3_{str(ds.time[0].data)[0:10]}_{str(ds.time[-1].data)[0:10]}_{nick}.nc'))\n",
    "print(ds_day)"
   ]
  },
  {
   "cell_type": "code",
   "execution_count": 14,
   "id": "13f21379-c86e-4b8b-9b79-0a9dd400046f",
   "metadata": {},
   "outputs": [],
   "source": [
    "time_span = (ds_day.time[-1] - ds_day.time[0]).values / np.timedelta64(1,'D') \n",
    "\n",
    "if time_span >= 365:\n",
    "    ds_month = ds.resample(time=\"MS\").mean()\n",
    "    ds_month.to_netcdf(os.path.join(result_dir, f'Sen-3_{str(ds.time[0].data)[0:10]}_{str(ds.time[-1].data)[0:10]}_{nick}_monthly.nc'))\n",
    "    print(ds_month)\n",
    "    if time_span >= 730:\n",
    "        ds_season = ds.resample(time=\"QS-DEC\").mean()\n",
    "        ds_season.to_netcdf(os.path.join(result_dir, f'Sen-3_{str(ds.time[0].data)[0:10]}_{str(ds.time[-1].data)[0:10]}_{nick}_seasonal.nc'))\n",
    "        print(ds_season)"
   ]
  },
  {
   "cell_type": "code",
   "execution_count": 15,
   "id": "db9d65eb-2a8d-4841-8e3f-65ef5122272f",
   "metadata": {},
   "outputs": [],
   "source": [
    "files_to_delete = glob.glob(os.path.join(result_dir, \"*.nc\"))\n",
    "files_to_delete = [f for f in files_to_delete if \"Sen-3\" not in f]\n",
    "\n",
    "for file in files_to_delete:\n",
    "    os.remove(file)\n",
    "\n",
    "#display(ds)"
   ]
  },
  {
   "cell_type": "code",
   "execution_count": 16,
   "id": "8efc6203-25e9-4393-9fba-3f3f3d265abe",
   "metadata": {},
   "outputs": [
    {
     "data": {
      "image/png": "[encoded data removed]",
      "text/plain": [
       "<Figure size 1000x600 with 5 Axes>"
      ]
     },
     "metadata": {},
     "output_type": "display_data"
    }
   ],
   "source": [
    "dataset = xr.open_dataset(os.path.join(result_dir, f'Sen-3_{str(ds.time[0].data)[0:10]}_{str(ds.time[-1].data)[0:10]}_{nick}.nc'), decode_coords='all')\n",
    "dataset = dataset.mean(dim='time')\n",
    "\n",
    "fig, ax = plt.subplots(figsize=[10,6], ncols = 3, layout='constrained', subplot_kw=dict(projection=ccrs.Robinson(central_longitude=112.0)))\n",
    "\n",
    "for i in range(3):\n",
    "    ax[i].set_extent(extent, crs=ccrs.PlateCarree())\n",
    "    ax[i].add_feature(cf.LAND.with_scale('10m'), facecolor = 'beige', edgecolor='black', zorder = 1)\n",
    "    ini = ax[i].gridlines(draw_labels = True, alpha=0.5)\n",
    "    ini.top_labels = False\n",
    "    ini.right_labels = False\n",
    "    if not i == 0:\n",
    "        ini.left_labels = False\n",
    "\n",
    "if parameters == 1:    \n",
    "    cnn_plot = 10 ** dataset['chl_nn']\n",
    "    coc_plot = 10 ** dataset['chl_oc4me']\n",
    "    tsm_plot = 10 ** dataset['tsm_nn']\n",
    "    \n",
    "    cnn_plot.plot(ax=ax[0], add_colorbar=False, norm=colors.LogNorm(0.01,100), cmap=cmo.algae, transform=ccrs.PlateCarree(), zorder=0)\n",
    "    ax[0].set_title(\"Chlorophyll-a NN\")\n",
    "    coc_plot.plot(ax=ax[1], add_colorbar=False, norm=colors.LogNorm(0.01,100), cmap=cmo.algae, transform=ccrs.PlateCarree(), zorder=0)\n",
    "    ax[1].set_title(\"Chlorophyll-a OC4ME\")\n",
    "    tsm_plot.plot(ax=ax[2], add_colorbar=False, norm=colors.LogNorm(0.01,100), cmap=cmo.matter, transform=ccrs.PlateCarree(), zorder=0)\n",
    "    ax[2].set_title(\"Total Suspended Matter NN\")\n",
    "    \n",
    "    cbar1 = plt.colorbar(cm.ScalarMappable(norm=colors.LogNorm(0.01,100), cmap=cmo.algae), shrink=0.7, aspect=40, pad=0.02, orientation = 'horizontal', label = 'Chlorophyll-a Concentration',ax=ax[0:2])\n",
    "    cbar2 = plt.colorbar(cm.ScalarMappable(norm=colors.LogNorm(0.01,100), cmap=cmo.matter), shrink=0.7, aspect=20, pad=0.02, orientation = 'horizontal', label = 'Total Suspended Matter',ax=ax[2:])\n",
    "\n",
    "else:\n",
    "    a06_plot = dataset['Oa06_reflectance']\n",
    "    a08_plot = dataset['Oa08_reflectance']\n",
    "    a12_plot = dataset['Oa12_reflectance']\n",
    "    \n",
    "    r1 = a06_plot.plot(ax=ax[0], norm=colors.Normalize(0,0.1), cmap=cmo.hawaii, transform=ccrs.PlateCarree(), zorder=0)\n",
    "    ax[0].set_title(\"Oa06\")\n",
    "    fig.colorbar(r1, ax=ax[0], shrink=0.6, location='bottom')\n",
    "    r2 = a08_plot.plot(ax=ax[1], norm=colors.Normalize(0,0.025), cmap=cmo.hawaii, transform=ccrs.PlateCarree(), zorder=0)\n",
    "    ax[1].set_title(\"Oa08\")\n",
    "    fig.colorbar(r2, ax=ax[1], shrink=0.6, location='bottom')\n",
    "    r3 = a12_plot.plot(ax=ax[2], norm=colors.Normalize(0,0.05), cmap=cmo.hawaii, transform=ccrs.PlateCarree(), zorder=0)\n",
    "    ax[2].set_title(\"Oa12\")\n",
    "    fig.colorbar(r3, ax=ax[2], shrink=0.6, location='bottom')\n",
    "\n",
    "plt.show()    \n",
    "\n",
    "plt.savefig(download_dir,f'Mean_of_{nick}.png', dpi=300)"
   ]
  },
  {
   "cell_type": "code",
   "execution_count": null,
   "id": "c322e8ca-84f5-4407-ab8e-44158b578d9f",
   "metadata": {},
   "outputs": [],
   "source": []
  },
  {
   "cell_type": "code",
   "execution_count": null,
   "id": "b4755163-9406-45dd-8617-f26ff80727ba",
   "metadata": {},
   "outputs": [],
   "source": []
  }
 ],
 "metadata": {
  "kernelspec": {
   "display_name": "eds",
   "language": "python",
   "name": "eds"
  },
  "language_info": {
   "codemirror_mode": {
    "name": "ipython",
    "version": 3
   },
   "file_extension": ".py",
   "mimetype": "text/x-python",
   "name": "python",
   "nbconvert_exporter": "python",
   "pygments_lexer": "ipython3",
   "version": "3.12.4"
  }
 },
 "nbformat": 4,
 "nbformat_minor": 5
}
