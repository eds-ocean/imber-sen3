{
 "cells": [
  {
   "cell_type": "markdown",
   "id": "ff9047a3-4985-4626-a9e9-0e0fc81cc3d9",
   "metadata": {},
   "source": [
    "## Modul\n",
    "\n",
    "Modul yang digunakan dalam script ini dapat dilihat pada cell berikut. Jika terdapat pesan error bahwa modul tidak tersedia, dapat dilakukan instalasi terlebih dahulu dengan menggunakan `conda`\n",
    "\n",
    "```{python}\n",
    "!conda install <module>\n",
    "```\n",
    "\n",
    "Atau bisa menggunakan `pip`\n",
    "\n",
    "```{python}\n",
    "!pip install <module>\n",
    "```\n",
    "\n",
    "Instalasi menggunakan `pip` hendaknya dilakukan jika modul tidak tersedia dalam repository `conda`."
   ]
  },
  {
   "cell_type": "code",
   "execution_count": 1,
   "id": "1db4f31f-5f7b-4798-88f0-aec9da408695",
   "metadata": {},
   "outputs": [],
   "source": [
    "import os\n",
    "import sys\n",
    "import json\n",
    "import time\n",
    "import base64\n",
    "from IPython.core.display import HTML\n",
    "\n",
    "from getpass import getpass\n",
    "\n",
    "import requests\n",
    "import warnings\n",
    "warnings.filterwarnings('ignore')\n",
    "\n",
    "import hda\n",
    "\n",
    "import xarray as xr\n",
    "import numpy as np\n",
    "\n",
    "from rich.jupyter import print\n",
    "\n",
    "import cartopy\n",
    "import matplotlib.pyplot as plt\n",
    "import cartopy.crs as ccrs\n",
    "\n"
   ]
  },
  {
   "cell_type": "code",
   "execution_count": 2,
   "id": "9e0cd68c-6a66-4a80-a92c-2f9fc0db5302",
   "metadata": {},
   "outputs": [
    {
     "data": {
      "text/html": [
       "<pre style=\"white-space:pre;overflow-x:auto;line-height:normal;font-family:Menlo,'DejaVu Sans Mono',consolas,'Courier New',monospace\"><span style=\"color: #800080; text-decoration-color: #800080\">/home/jovyan/edskywalker/imber-sen3/</span><span style=\"color: #ff00ff; text-decoration-color: #ff00ff\">downloaded</span>\n",
       "</pre>\n"
      ],
      "text/plain": [
       "\u001b[35m/home/jovyan/edskywalker/imber-sen3/\u001b[0m\u001b[95mdownloaded\u001b[0m\n"
      ]
     },
     "metadata": {},
     "output_type": "display_data"
    }
   ],
   "source": [
    "download_dir = os.path.join(os.path.expanduser('~'),\"edskywalker\",\"imber-sen3\", \"downloaded\")\n",
    "\n",
    "os.makedirs(download_dir, exist_ok=True)\n",
    "\n",
    "print(download_dir)"
   ]
  },
  {
   "cell_type": "markdown",
   "id": "b4ba2574-5e3b-46c1-a851-7a2a03dd2587",
   "metadata": {},
   "source": [
    "## Input `username` dan `password` \n",
    "\n",
    "Untuk mengakses data WEKEO, Anda perlu memiliki akun terlebih dahulu. Silakan pelajari mengenai pembuatan akun terlebih dahulu di [sini](https://help.wekeo.eu/en/articles/9389186-how-to-create-a-wekeo-account). "
   ]
  },
  {
   "cell_type": "code",
   "execution_count": 3,
   "id": "8e2d91d9-d6d4-47e9-9adf-a26830006b4f",
   "metadata": {},
   "outputs": [],
   "source": [
    "user = r'edskywalker' #input(\"Enter your name: \")\n",
    "passw = r'padangLua103#' #getpass(\"Enter your password: \")\n",
    "\n",
    "c = hda.Client(hda.Configuration(user=user, password=passw))"
   ]
  },
  {
   "cell_type": "markdown",
   "id": "6d6a3fa1-b3be-4e5a-b8fb-6f63bf391eb5",
   "metadata": {},
   "source": [
    "## Input *Data Query*\n",
    "\n",
    "Masukkan parameter terkait dengan jenis data yang diinginkan serta lokasi dan waktunya.\n",
    "\n",
    "`Dataset` adalah dataset-id. Value yang tepat bisa ditemukan di \n",
    "\n",
    "Untuk data Sentinel-3 OLCI, yang tersedia adalah sebagai berikut:\n",
    "\n",
    "- `EO:EUM:DAT:SENTINEL-3:0556` &rarr; **2016-04-25** -- **28-04-2021**\n",
    "- `EO:EUM:DAT:SENTINEL-3:OL_2_WFR___` &rarr; **2021-04-29** -- **2023-12-31**\n",
    "\n",
    "Sentinel-3 juga tersedia dalam 2 jenis satelit, `Sentinel-3A` dan `Sentinel-3B`. Jika pilihan ini tidak diisi, pada `query` akan terpilih semua satelit. Perlu dicatat bahwa Sentinel-3B tersedia mulai tanggal **2018-05-18**."
   ]
  },
  {
   "cell_type": "code",
   "execution_count": 4,
   "id": "eaae15c5-9202-48cb-b6b6-97825ef5128f",
   "metadata": {},
   "outputs": [],
   "source": [
    "query = {\n",
    "  \"dataset_id\": \"EO:EUM:DAT:SENTINEL-3:0556\", #input(\"Dataset: \"), \n",
    "  \"dtstart\": \"2017-04-25T00:00:00.000Z\", #input(\"Time start: \"),\n",
    "  \"dtend\": \"2018-04-28T00:00:00.000Z\", #input(\"Time end: \"),\n",
    "  \"bbox\": [\n",
    "    106.33442417084652, #float(input(\"West bound: \")), #106.33442417084652,\n",
    "    -6.226519426392115, #float(input(\"South bound: \")), #-6.226519426392115,\n",
    "    107.12675355792621, #float(input(\"East bound: \")), #107.12675355792621,\n",
    "    -5.321432926835288 #float(input(\"North bound: \")), #-5.321432926835288\n",
    "  ],\n",
    "  \"sat\": \"Sentinel-3A\",# input(\"Satellite: \"), #\"Sentinel-3B\",\n",
    "  \"type\": \"OL_2_WFR___\",\n",
    "  \"timeliness\": \"NT\",\n",
    "  \"itemsPerPage\": 200,\n",
    "  \"startIndex\": 0\n",
    "}\n"
   ]
  },
  {
   "cell_type": "code",
   "execution_count": 5,
   "id": "11f364b3-d424-41a7-b838-c03992e46889",
   "metadata": {},
   "outputs": [
    {
     "data": {
      "text/html": [
       "<pre style=\"white-space:pre;overflow-x:auto;line-height:normal;font-family:Menlo,'DejaVu Sans Mono',consolas,'Courier New',monospace\">SearchResults<span style=\"font-weight: bold\">[</span><span style=\"color: #808000; text-decoration-color: #808000\">items</span>=<span style=\"color: #008080; text-decoration-color: #008080; font-weight: bold\">217</span>,<span style=\"color: #808000; text-decoration-color: #808000\">volume</span>=<span style=\"color: #008080; text-decoration-color: #008080; font-weight: bold\">54.</span>9GB<span style=\"font-weight: bold\">]</span>\n",
       "</pre>\n"
      ],
      "text/plain": [
       "SearchResults\u001b[1m[\u001b[0m\u001b[33mitems\u001b[0m=\u001b[1;36m217\u001b[0m,\u001b[33mvolume\u001b[0m=\u001b[1;36m54\u001b[0m\u001b[1;36m.\u001b[0m9GB\u001b[1m]\u001b[0m\n"
      ]
     },
     "metadata": {},
     "output_type": "display_data"
    }
   ],
   "source": [
    "search_result = c.search(query)\n",
    "print(search_result)\n"
   ]
  },
  {
   "cell_type": "raw",
   "id": "08d67837-195f-44e1-b1e8-6481fe1eabfc",
   "metadata": {
    "scrolled": true
   },
   "source": [
    "for res in search_result.results:\n",
    "    file_id = res['id']\n",
    "    print(f\"Found: {file_id}\")"
   ]
  },
  {
   "cell_type": "code",
   "execution_count": 6,
   "id": "d1f33f4c-1ff6-4589-8992-213978489c80",
   "metadata": {},
   "outputs": [
    {
     "data": {
      "text/html": [
       "<pre style=\"white-space:pre;overflow-x:auto;line-height:normal;font-family:Menlo,'DejaVu Sans Mono',consolas,'Courier New',monospace\">S3A_OL_2_WFR____20180427T021754_20180427T022054_20211130T163312_0179_030_274______MAR_R_NT_003.SEN3\n",
       "</pre>\n"
      ],
      "text/plain": [
       "S3A_OL_2_WFR____20180427T021754_20180427T022054_20211130T163312_0179_030_274______MAR_R_NT_003.SEN3\n"
      ]
     },
     "metadata": {},
     "output_type": "display_data"
    },
    {
     "name": "stderr",
     "output_type": "stream",
     "text": [
      "                                                   \r"
     ]
    }
   ],
   "source": [
    "data_id = search_result[0].results[0]['id']\n",
    "\n",
    "print(data_id)\n",
    "\n",
    "search_result[0].download()"
   ]
  },
  {
   "cell_type": "code",
   "execution_count": 7,
   "id": "9b3178a8-613f-4a85-b800-bd27f2af1a3b",
   "metadata": {},
   "outputs": [
    {
     "data": {
      "text/html": [
       "<pre style=\"white-space:pre;overflow-x:auto;line-height:normal;font-family:Menlo,'DejaVu Sans Mono',consolas,'Courier New',monospace\">Unzipping of product \n",
       "S3A_OL_2_WFR____20180427T021754_20180427T022054_20211130T163312_0179_030_274______MAR_R_NT_003.SEN3 finished.\n",
       "</pre>\n"
      ],
      "text/plain": [
       "Unzipping of product \n",
       "S3A_OL_2_WFR____20180427T021754_20180427T022054_20211130T163312_0179_030_274______MAR_R_NT_003.SEN3 finished.\n"
      ]
     },
     "metadata": {},
     "output_type": "display_data"
    }
   ],
   "source": [
    "import zipfile\n",
    "\n",
    "with zipfile.ZipFile(data_id + '.zip', 'r') as zip_ref:\n",
    "    zip_ref.extractall(download_dir)\n",
    "    print(f'Unzipping of product {data_id} finished.')\n",
    "    os.remove(data_id + '.zip')"
   ]
  },
  {
   "cell_type": "code",
   "execution_count": 8,
   "id": "262fb7c2-7a0b-4566-928a-7ac2c26a5c48",
   "metadata": {},
   "outputs": [],
   "source": [
    "safe_dir = os.path.join(download_dir,data_id)\n",
    "\n",
    "geo_coords = xr.open_dataset(os.path.join(download_dir,data_id,'geo_coordinates.nc'))\n",
    "flag_file = xr.open_dataset(os.path.join(download_dir,data_id,'wqsf.nc'))\n",
    "chl_file = xr.open_dataset(os.path.join(download_dir,data_id,'chl_nn.nc'))"
   ]
  },
  {
   "cell_type": "code",
   "execution_count": 9,
   "id": "3432b4d5-ceeb-4931-b3de-51374f4cc69a",
   "metadata": {},
   "outputs": [],
   "source": [
    "lon = geo_coords.variables['longitude'].data\n",
    "lat = geo_coords.variables['latitude'].data\n",
    "flags_data = flag_file.variables['WQSF'].data\n",
    "chl_nn = chl_file.variables['CHL_NN'].data"
   ]
  },
  {
   "cell_type": "code",
   "execution_count": 10,
   "id": "c645bacc-b7a8-4506-b7c8-5bf61f6ecb09",
   "metadata": {},
   "outputs": [],
   "source": [
    "def flag_data_fast(list_flag, flag_names, flag_values, flag_data, flag_type='WQSF'):\n",
    "    flag_bits = np.uint64()\n",
    "    if flag_type == 'SST':\n",
    "        flag_bits = np.uint8()\n",
    "    elif flag_type == 'WQSF_lsb':\n",
    "        flag_bits = np.uint32()\n",
    "    for flag in list_flag:\n",
    "        try:\n",
    "            flag_bits = flag_bits | flag_values[flag_names.index(flag)]\n",
    "        except:\n",
    "            print(flag + 'not present')\n",
    "    return (flag_data & flag_bits) > 0\t\t\t\n"
   ]
  },
  {
   "cell_type": "code",
   "execution_count": 11,
   "id": "9f66e161-8f23-4ec3-b1ef-bc4cc86c75b0",
   "metadata": {},
   "outputs": [],
   "source": [
    "list_flag = ['LAND', 'CLOUD', 'CLOUD_AMBIGUOUS', 'CLOUD_MARGIN', 'INVALID', 'COSMETIC', 'SATURATED', 'SUSPECT', 'HISOLZEN', 'HIGHGLINT', 'SNOW_ICE', 'AC_FAIL', 'WHITECAPS', 'ADJAC', 'RWNEG_O2', 'RWNEG_O3', 'RWNEG_O4', 'RWNEG_O5', 'RWNEG_O6', 'RWNEG_O7', 'RWNEG_O8', 'OCNN_FAIL']\n",
    "\n",
    "flag_names = flag_file['WQSF'].flag_meanings.split(' ') #flag names\n",
    "flag_vals = flag_file['WQSF'].flag_masks #flag bit values\n",
    "flags_data = flag_file.variables['WQSF'].data\n",
    "\n",
    "flag_mask = flag_data_fast(list_flag, flag_names, flag_vals, flags_data, flag_type='WQSF')\n",
    "\n",
    "flag_mask = flag_mask.astype(float)\n",
    "flag_mask[flag_mask == 0] = np.nan\n",
    "\n",
    "chl_flagged = chl_nn * flag_mask"
   ]
  },
  {
   "cell_type": "code",
   "execution_count": 12,
   "id": "5dc70613-61e7-4e51-b356-407ac8abce8a",
   "metadata": {
    "scrolled": true
   },
   "outputs": [
    {
     "data": {
      "text/html": [
       "<pre style=\"white-space:pre;overflow-x:auto;line-height:normal;font-family:Menlo,'DejaVu Sans Mono',consolas,'Courier New',monospace\">Lon shape: \n",
       "<span style=\"font-weight: bold\">(</span><span style=\"color: #008080; text-decoration-color: #008080; font-weight: bold\">4091</span>, <span style=\"color: #008080; text-decoration-color: #008080; font-weight: bold\">4865</span><span style=\"font-weight: bold\">)</span>\n",
       "</pre>\n"
      ],
      "text/plain": [
       "Lon shape: \n",
       "\u001b[1m(\u001b[0m\u001b[1;36m4091\u001b[0m, \u001b[1;36m4865\u001b[0m\u001b[1m)\u001b[0m\n"
      ]
     },
     "metadata": {},
     "output_type": "display_data"
    },
    {
     "data": {
      "text/html": [
       "<pre style=\"white-space:pre;overflow-x:auto;line-height:normal;font-family:Menlo,'DejaVu Sans Mono',consolas,'Courier New',monospace\">Mask shape; \n",
       "<span style=\"font-weight: bold\">(</span><span style=\"color: #008080; text-decoration-color: #008080; font-weight: bold\">4091</span>, <span style=\"color: #008080; text-decoration-color: #008080; font-weight: bold\">4865</span><span style=\"font-weight: bold\">)</span>\n",
       "</pre>\n"
      ],
      "text/plain": [
       "Mask shape; \n",
       "\u001b[1m(\u001b[0m\u001b[1;36m4091\u001b[0m, \u001b[1;36m4865\u001b[0m\u001b[1m)\u001b[0m\n"
      ]
     },
     "metadata": {},
     "output_type": "display_data"
    },
    {
     "data": {
      "text/html": [
       "<pre style=\"white-space:pre;overflow-x:auto;line-height:normal;font-family:Menlo,'DejaVu Sans Mono',consolas,'Courier New',monospace\">Flagged shape: \n",
       "<span style=\"font-weight: bold\">(</span><span style=\"color: #008080; text-decoration-color: #008080; font-weight: bold\">4091</span>, <span style=\"color: #008080; text-decoration-color: #008080; font-weight: bold\">4865</span><span style=\"font-weight: bold\">)</span>\n",
       "</pre>\n"
      ],
      "text/plain": [
       "Flagged shape: \n",
       "\u001b[1m(\u001b[0m\u001b[1;36m4091\u001b[0m, \u001b[1;36m4865\u001b[0m\u001b[1m)\u001b[0m\n"
      ]
     },
     "metadata": {},
     "output_type": "display_data"
    }
   ],
   "source": [
    "geo_coords.close()\n",
    "chl_file.close()\n",
    "flag_file.close()\n",
    "\n",
    "print('Lon shape: ', lon.shape)\n",
    "print('Mask shape; ', flag_mask.shape)\n",
    "print('Flagged shape: ', chl_flagged.shape)"
   ]
  },
  {
   "cell_type": "code",
   "execution_count": 13,
   "id": "f231fd69-d403-462a-869b-6b37287e436e",
   "metadata": {},
   "outputs": [
    {
     "data": {
      "text/html": [
       "<pre style=\"white-space:pre;overflow-x:auto;line-height:normal;font-family:Menlo,'DejaVu Sans Mono',consolas,'Courier New',monospace\"><span style=\"font-weight: bold\">&lt;</span><span style=\"color: #ff00ff; text-decoration-color: #ff00ff; font-weight: bold\">xarray.Dataset</span><span style=\"font-weight: bold\">&gt;</span> Size: 637MB\n",
       "Dimensions:  <span style=\"font-weight: bold\">(</span>x: <span style=\"color: #008080; text-decoration-color: #008080; font-weight: bold\">4091</span>, y: <span style=\"color: #008080; text-decoration-color: #008080; font-weight: bold\">4865</span><span style=\"font-weight: bold\">)</span>\n",
       "Coordinates:\n",
       "    lon      <span style=\"font-weight: bold\">(</span>x, y<span style=\"font-weight: bold\">)</span> float64 159MB <span style=\"color: #008080; text-decoration-color: #008080; font-weight: bold\">106.7</span> <span style=\"color: #008080; text-decoration-color: #008080; font-weight: bold\">106.8</span> <span style=\"color: #008080; text-decoration-color: #008080; font-weight: bold\">106.8</span> <span style=\"color: #008080; text-decoration-color: #008080; font-weight: bold\">106.8</span> <span style=\"color: #808000; text-decoration-color: #808000\">...</span> <span style=\"color: #008080; text-decoration-color: #008080; font-weight: bold\">115.9</span> <span style=\"color: #008080; text-decoration-color: #008080; font-weight: bold\">116.0</span> <span style=\"color: #008080; text-decoration-color: #008080; font-weight: bold\">116.0</span>\n",
       "    lat      <span style=\"font-weight: bold\">(</span>x, y<span style=\"font-weight: bold\">)</span> float64 159MB <span style=\"color: #008080; text-decoration-color: #008080; font-weight: bold\">0.3533</span> <span style=\"color: #008080; text-decoration-color: #008080; font-weight: bold\">0.3528</span> <span style=\"color: #008080; text-decoration-color: #008080; font-weight: bold\">0.3522</span> <span style=\"color: #808000; text-decoration-color: #808000\">...</span> <span style=\"color: #008080; text-decoration-color: #008080; font-weight: bold\">-12.86</span> <span style=\"color: #008080; text-decoration-color: #008080; font-weight: bold\">-12.86</span> <span style=\"color: #008080; text-decoration-color: #008080; font-weight: bold\">-12.86</span>\n",
       "Dimensions without coordinates: x, y\n",
       "Data variables:\n",
       "    mask     <span style=\"font-weight: bold\">(</span>x, y<span style=\"font-weight: bold\">)</span> float64 159MB <span style=\"color: #008080; text-decoration-color: #008080; font-weight: bold\">1.0</span> <span style=\"color: #008080; text-decoration-color: #008080; font-weight: bold\">1.0</span> <span style=\"color: #008080; text-decoration-color: #008080; font-weight: bold\">1.0</span> <span style=\"color: #008080; text-decoration-color: #008080; font-weight: bold\">1.0</span> <span style=\"color: #008080; text-decoration-color: #008080; font-weight: bold\">1.0</span> <span style=\"color: #808000; text-decoration-color: #808000\">...</span> <span style=\"color: #008080; text-decoration-color: #008080; font-weight: bold\">1.0</span> <span style=\"color: #008080; text-decoration-color: #008080; font-weight: bold\">1.0</span> <span style=\"color: #008080; text-decoration-color: #008080; font-weight: bold\">1.0</span> <span style=\"color: #008080; text-decoration-color: #008080; font-weight: bold\">1.0</span> <span style=\"color: #008080; text-decoration-color: #008080; font-weight: bold\">1.0</span>\n",
       "    chl_nn   <span style=\"font-weight: bold\">(</span>x, y<span style=\"font-weight: bold\">)</span> float64 159MB nan nan nan nan nan <span style=\"color: #808000; text-decoration-color: #808000\">...</span> nan nan nan nan nan\n",
       "</pre>\n"
      ],
      "text/plain": [
       "\u001b[1m<\u001b[0m\u001b[1;95mxarray.Dataset\u001b[0m\u001b[1m>\u001b[0m Size: 637MB\n",
       "Dimensions:  \u001b[1m(\u001b[0mx: \u001b[1;36m4091\u001b[0m, y: \u001b[1;36m4865\u001b[0m\u001b[1m)\u001b[0m\n",
       "Coordinates:\n",
       "    lon      \u001b[1m(\u001b[0mx, y\u001b[1m)\u001b[0m float64 159MB \u001b[1;36m106.7\u001b[0m \u001b[1;36m106.8\u001b[0m \u001b[1;36m106.8\u001b[0m \u001b[1;36m106.8\u001b[0m \u001b[33m...\u001b[0m \u001b[1;36m115.9\u001b[0m \u001b[1;36m116.0\u001b[0m \u001b[1;36m116.0\u001b[0m\n",
       "    lat      \u001b[1m(\u001b[0mx, y\u001b[1m)\u001b[0m float64 159MB \u001b[1;36m0.3533\u001b[0m \u001b[1;36m0.3528\u001b[0m \u001b[1;36m0.3522\u001b[0m \u001b[33m...\u001b[0m \u001b[1;36m-12.86\u001b[0m \u001b[1;36m-12.86\u001b[0m \u001b[1;36m-12.86\u001b[0m\n",
       "Dimensions without coordinates: x, y\n",
       "Data variables:\n",
       "    mask     \u001b[1m(\u001b[0mx, y\u001b[1m)\u001b[0m float64 159MB \u001b[1;36m1.0\u001b[0m \u001b[1;36m1.0\u001b[0m \u001b[1;36m1.0\u001b[0m \u001b[1;36m1.0\u001b[0m \u001b[1;36m1.0\u001b[0m \u001b[33m...\u001b[0m \u001b[1;36m1.0\u001b[0m \u001b[1;36m1.0\u001b[0m \u001b[1;36m1.0\u001b[0m \u001b[1;36m1.0\u001b[0m \u001b[1;36m1.0\u001b[0m\n",
       "    chl_nn   \u001b[1m(\u001b[0mx, y\u001b[1m)\u001b[0m float64 159MB nan nan nan nan nan \u001b[33m...\u001b[0m nan nan nan nan nan\n"
      ]
     },
     "metadata": {},
     "output_type": "display_data"
    }
   ],
   "source": [
    "# print(chl_file)\n",
    "\n",
    "dta = xr.Dataset()\n",
    "\n",
    "dta['lon'] = xr.DataArray(lon, dims=('x','y'))\n",
    "dta['lat'] = xr.DataArray(lat, dims=('x','y'))\n",
    "dta['mask'] = xr.DataArray(flag_mask, dims=('x','y'))\n",
    "dta['chl_nn'] = xr.DataArray(chl_flagged, dims=('x','y'))\n",
    "\n",
    "dta = dta.set_coords(['lon','lat'])\n",
    "\n",
    "print(dta)"
   ]
  },
  {
   "cell_type": "code",
   "execution_count": null,
   "id": "1a882a28-b69d-41ca-bcb5-48254749fb18",
   "metadata": {},
   "outputs": [],
   "source": [
    "fig, ax = plt.subplots(figsize=[12,6], ncols=2, layout='constrained', subplot_kw=dict(projection=ccrs.Mercator()))\n",
    "\n",
    "# ax.add_feature(cartopy.feature.LAND.with_scale('10m'), facecolor = 'beige', edgecolor='black', zorder = 1)\n",
    "for i in range(2):\n",
    "    \n",
    "    ax[i].coastlines()\n",
    "    ini = ax[i].gridlines(draw_labels = True, alpha=0.5)\n",
    "    ini.top_labels = False\n",
    "    ini.right_labels = False\n",
    "\n",
    "dta['mask'].plot(ax=ax[0], x='lon',y='lat', vmin=0, vmax=1, transform=ccrs.PlateCarree(), zorder=0)\n",
    "dta['chl_nn'].plot(ax=ax[1], x='lon',y='lat', vmin=np.log10(0.01), vmax=np.log10(20), transform=ccrs.PlateCarree(), zorder=0)\n",
    "\n"
   ]
  },
  {
   "cell_type": "code",
   "execution_count": null,
   "id": "b3f59715-203b-4022-bc93-c911b03f152f",
   "metadata": {},
   "outputs": [],
   "source": []
  }
 ],
 "metadata": {
  "kernelspec": {
   "display_name": "eds",
   "language": "python",
   "name": "eds"
  },
  "language_info": {
   "codemirror_mode": {
    "name": "ipython",
    "version": 3
   },
   "file_extension": ".py",
   "mimetype": "text/x-python",
   "name": "python",
   "nbconvert_exporter": "python",
   "pygments_lexer": "ipython3",
   "version": "3.12.4"
  }
 },
 "nbformat": 4,
 "nbformat_minor": 5
}
